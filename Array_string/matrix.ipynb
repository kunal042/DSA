{
 "cells": [
  {
   "cell_type": "markdown",
   "metadata": {},
   "source": [
    "### Matrix "
   ]
  },
  {
   "cell_type": "code",
   "execution_count": 3,
   "metadata": {},
   "outputs": [
    {
     "name": "stdout",
     "output_type": "stream",
     "text": [
      "2 4 6 \n",
      "2 4 6 \n",
      "2 4 6 \n",
      "6 12 18 \n",
      "6 12 18 \n",
      "6 12 18 \n"
     ]
    }
   ],
   "source": [
    "n,m = map(int, input().split())\n",
    "\n",
    "mat1 = []\n",
    "for i in range(n):\n",
    "    mat1.append(list(map(int, input().split())))\n",
    "\n",
    "mat2 = []\n",
    "for i in range(n):\n",
    "    mat2.append(list(map(int, input().split())))\n",
    "\n",
    "\n",
    "\n",
    "# Addition \n",
    "mat3 = []\n",
    "for i in range(n):\n",
    "    mat3.append([0]*m)\n",
    "\n",
    "\n",
    "for i in range(n):\n",
    "    for j in range(m):\n",
    "        mat3[i][j] = mat1[i][j] + mat2[i][j]\n",
    "\n",
    "for i in range(n):\n",
    "    for j in range(m):\n",
    "        print(mat3[i][j], end=\" \")\n",
    "    print()\n",
    "\n",
    "## Multiplication \n",
    "\n",
    "mat4 = []\n",
    "for i in range(n):\n",
    "    mat4.append([0]*m)\n",
    "\n",
    "for i in range(n):\n",
    "    for j in range(m):\n",
    "        for k in range(m):\n",
    "            mat4[i][j] = mat4[i][j] +(mat1[i][k] * mat2[k][j])\n",
    "\n",
    "for i in range(n):\n",
    "    for j in range(m):\n",
    "        print(mat4[i][j], end=\" \")\n",
    "    print()"
   ]
  },
  {
   "cell_type": "code",
   "execution_count": null,
   "metadata": {},
   "outputs": [],
   "source": []
  },
  {
   "cell_type": "code",
   "execution_count": null,
   "metadata": {},
   "outputs": [],
   "source": []
  },
  {
   "cell_type": "code",
   "execution_count": null,
   "metadata": {},
   "outputs": [],
   "source": []
  },
  {
   "cell_type": "code",
   "execution_count": null,
   "metadata": {},
   "outputs": [],
   "source": []
  },
  {
   "cell_type": "code",
   "execution_count": null,
   "metadata": {},
   "outputs": [],
   "source": []
  },
  {
   "cell_type": "code",
   "execution_count": null,
   "metadata": {},
   "outputs": [],
   "source": []
  },
  {
   "cell_type": "code",
   "execution_count": null,
   "metadata": {},
   "outputs": [],
   "source": []
  },
  {
   "cell_type": "code",
   "execution_count": null,
   "metadata": {},
   "outputs": [],
   "source": []
  }
 ],
 "metadata": {
  "kernelspec": {
   "display_name": "Python 3",
   "language": "python",
   "name": "python3"
  },
  "language_info": {
   "codemirror_mode": {
    "name": "ipython",
    "version": 3
   },
   "file_extension": ".py",
   "mimetype": "text/x-python",
   "name": "python",
   "nbconvert_exporter": "python",
   "pygments_lexer": "ipython3",
   "version": "3.12.4"
  }
 },
 "nbformat": 4,
 "nbformat_minor": 2
}

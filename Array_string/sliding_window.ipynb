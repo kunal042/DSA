{
 "cells": [
  {
   "cell_type": "markdown",
   "metadata": {},
   "source": [
    "## Sliding Window "
   ]
  },
  {
   "cell_type": "markdown",
   "metadata": {
    "vscode": {
     "languageId": "plaintext"
    }
   },
   "source": [
    "## Brute Froce approch"
   ]
  },
  {
   "cell_type": "code",
   "execution_count": 11,
   "metadata": {},
   "outputs": [
    {
     "name": "stdout",
     "output_type": "stream",
     "text": [
      "12\n"
     ]
    }
   ],
   "source": [
    "def main():\n",
    "    t = int(input())\n",
    "    while t > 0:\n",
    "        n, k = map(int, input().split())\n",
    "        arr = list(map(int, input().split()))\n",
    "        mx = -1\n",
    "\n",
    "        for i in range(n-k+1):\n",
    "            s = 0 \n",
    "            for j in range(i, i+k):\n",
    "                s += arr[j]\n",
    "                if s > mx:\n",
    "                    mx = s\n",
    "        print(mx)\n",
    "        t = t - 1\n",
    "\n",
    "if __name__ == \"__main__\":\n",
    "    main()"
   ]
  },
  {
   "cell_type": "markdown",
   "metadata": {},
   "source": [
    "## Optimised approch"
   ]
  },
  {
   "cell_type": "code",
   "execution_count": 10,
   "metadata": {},
   "outputs": [
    {
     "name": "stdout",
     "output_type": "stream",
     "text": [
      "12\n"
     ]
    }
   ],
   "source": [
    "def main():\n",
    "    t = int(input())\n",
    "    while t > 0:\n",
    "        n, k = map(int, input().split())\n",
    "        arr = list(map(int, input().split()))\n",
    "\n",
    "        s = 0\n",
    "        for i in range(0,k):\n",
    "            s += arr[i]\n",
    "\n",
    "        mx = s\n",
    "        for j in range(k,n):\n",
    "            s = s - arr[j-k] + arr[j]\n",
    "            if s > mx :\n",
    "                mx = s\n",
    "\n",
    "        print(mx)\n",
    "        t = t - 1\n",
    "\n",
    "if __name__ == \"__main__\":\n",
    "    main()"
   ]
  },
  {
   "cell_type": "code",
   "execution_count": null,
   "metadata": {},
   "outputs": [],
   "source": []
  }
 ],
 "metadata": {
  "kernelspec": {
   "display_name": "Python 3",
   "language": "python",
   "name": "python3"
  },
  "language_info": {
   "codemirror_mode": {
    "name": "ipython",
    "version": 3
   },
   "file_extension": ".py",
   "mimetype": "text/x-python",
   "name": "python",
   "nbconvert_exporter": "python",
   "pygments_lexer": "ipython3",
   "version": "3.12.4"
  }
 },
 "nbformat": 4,
 "nbformat_minor": 2
}

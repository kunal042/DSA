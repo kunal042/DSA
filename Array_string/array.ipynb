{
 "cells": [
  {
   "cell_type": "markdown",
   "metadata": {},
   "source": [
    "## Find max aand min element of the array"
   ]
  },
  {
   "cell_type": "code",
   "execution_count": 11,
   "metadata": {},
   "outputs": [
    {
     "name": "stdout",
     "output_type": "stream",
     "text": [
      "1 9\n"
     ]
    }
   ],
   "source": [
    "arr = [3,4,2,1,6,7,3,9]\n",
    "mx = -1\n",
    "min_ = 10000001\n",
    "\n",
    "for i in range(len(arr)):\n",
    "    if arr[i] > mx:\n",
    "        mx = arr[i]\n",
    "    if arr[i] < min_:\n",
    "        min_ = arr[i]\n",
    "\n",
    "print(min_, mx)"
   ]
  },
  {
   "cell_type": "markdown",
   "metadata": {},
   "source": [
    "## Right Rotation of Array"
   ]
  },
  {
   "cell_type": "code",
   "execution_count": 6,
   "metadata": {},
   "outputs": [
    {
     "name": "stdout",
     "output_type": "stream",
     "text": [
      "5 1 2 3 4 \n",
      "4 5 1 2 3 \n",
      "3 4 5 1 2 \n",
      "2 3 4 5 1 \n",
      "1 2 3 4 5 \n"
     ]
    }
   ],
   "source": [
    "def RightRotation(arr,n):\n",
    "    temp = arr[n-1]\n",
    "    for i in range(n-1,0,-1):\n",
    "        arr[i] = arr[i-1]\n",
    "    arr[0] = temp\n",
    "\n",
    "def PrintArr(arr,n):\n",
    "    for i in range(n):\n",
    "        print(arr[i],end=\" \")\n",
    "    print()\n",
    "\n",
    "\n",
    "def main():\n",
    "    t = int(input())\n",
    "    while t > 0:\n",
    "        n, k = map(int, input().split())\n",
    "        arr = list(map(int, input().split()))\n",
    "       \n",
    "\n",
    "        for i in range(k):\n",
    "            RightRotation(arr,n)\n",
    "        PrintArr(arr,n)\n",
    "        t = t - 1\n",
    "\n",
    "if __name__ ==  \"__main__\":\n",
    "    main()\n"
   ]
  },
  {
   "cell_type": "code",
   "execution_count": 10,
   "metadata": {},
   "outputs": [
    {
     "name": "stdout",
     "output_type": "stream",
     "text": [
      "5 1 2 3 4 \n",
      "4 5 1 2 3 \n",
      "3 4 5 1 2 \n",
      "2 3 4 5 1 \n",
      "1 2 3 4 5 \n"
     ]
    }
   ],
   "source": [
    "def RightRotation(arr,n):\n",
    "    temp = arr[n-1]\n",
    "    for i in range(n-1,0,-1):\n",
    "        arr[i] = arr[i-1]\n",
    "    arr[0] = temp\n",
    "\n",
    "def PrintArr(arr,n):\n",
    "    for i in range(n):\n",
    "        print(arr[i],end=\" \")\n",
    "    print()\n",
    "\n",
    "\n",
    "def main():\n",
    "    t = 1\n",
    "    while t != 6:\n",
    "        n, k = 5, t\n",
    "        arr = [1,2,3,4,5]\n",
    "\n",
    "        for i in range(k):\n",
    "            RightRotation(arr,n)\n",
    "        PrintArr(arr,n)\n",
    "        t = t + 1\n",
    "\n",
    "if __name__ ==  \"__main__\":\n",
    "    main()\n"
   ]
  },
  {
   "cell_type": "markdown",
   "metadata": {},
   "source": [
    "### Reverse Alogorithm"
   ]
  },
  {
   "cell_type": "code",
   "execution_count": 16,
   "metadata": {},
   "outputs": [
    {
     "name": "stdout",
     "output_type": "stream",
     "text": [
      "4 5 1 2 3 \n"
     ]
    }
   ],
   "source": [
    "def ReverseRightRotation(arr, i, j):\n",
    "    while(i<j):\n",
    "        temp = arr[i]\n",
    "        arr[i] = arr[j]\n",
    "        arr[j] = temp\n",
    "\n",
    "        i += 1\n",
    "        j -= 1\n",
    "\n",
    "def PrintArr(arr,n):\n",
    "    for i in range(n):\n",
    "        print(arr[i], end=\" \")\n",
    "    print()\n",
    "\n",
    "def main():\n",
    "    t = int(input())\n",
    "    while t > 0:\n",
    "        n, k = map(int, input().split())\n",
    "        arr = list(map(int, input().split()))\n",
    "\n",
    "        ReverseRightRotation(arr, n-k, n-1)\n",
    "        ReverseRightRotation(arr, 0, n-k-1)\n",
    "        ReverseRightRotation(arr, 0, n-1)\n",
    "\n",
    "        PrintArr(arr,n)\n",
    "        t = t - 1\n",
    "\n",
    "if __name__ == \"__main__\":\n",
    "    main()"
   ]
  },
  {
   "cell_type": "code",
   "execution_count": null,
   "metadata": {},
   "outputs": [],
   "source": [
    "### Left Roataion"
   ]
  },
  {
   "cell_type": "code",
   "execution_count": 18,
   "metadata": {},
   "outputs": [
    {
     "name": "stdout",
     "output_type": "stream",
     "text": [
      "2 3 4 5 1 \n",
      "3 4 5 1 2 \n",
      "4 5 1 2 3 \n",
      "5 1 2 3 4 \n",
      "1 2 3 4 5 \n"
     ]
    }
   ],
   "source": [
    "def LeftRotation(arr,n):\n",
    "    temp = arr[0]\n",
    "    for i in range(n-1):\n",
    "        arr[i] = arr[i+1]\n",
    "    arr[n-1] = temp\n",
    "\n",
    "def PrintArr(arr, n):\n",
    "    for i in range(n):\n",
    "        print(arr[i], end=\" \")\n",
    "    print()\n",
    "\n",
    "def main():\n",
    "    t = int(input())\n",
    "\n",
    "    while t != 0:\n",
    "        n, k = map(int, input().split())\n",
    "        arr = list(map(int, input().split()))\n",
    "\n",
    "        for i in range(k):\n",
    "            LeftRotation(arr,n)\n",
    "        PrintArr(arr,n)\n",
    "        t -= 1\n",
    "\n",
    "if __name__ == \"__main__\":\n",
    "    main()"
   ]
  },
  {
   "cell_type": "markdown",
   "metadata": {},
   "source": [
    "### Reverse Alogo"
   ]
  },
  {
   "cell_type": "code",
   "execution_count": 29,
   "metadata": {},
   "outputs": [
    {
     "name": "stdout",
     "output_type": "stream",
     "text": [
      "1 \n"
     ]
    }
   ],
   "source": [
    "def ReverseLeftRotation(arr, i, j):\n",
    "    while(i < j):\n",
    "        temp = arr[i]\n",
    "        arr[i] = arr[j]\n",
    "        arr[j] = temp\n",
    "        i += 1\n",
    "        j -= 1\n",
    "\n",
    "\n",
    "def PrintArr(arr, n):\n",
    "    for i in range(n):\n",
    "        print(arr[i], end=\" \")\n",
    "    print()\n",
    "\n",
    "def main():\n",
    "    t = int(input())\n",
    "    while t != 0:\n",
    "        n, k = map(int, input().split())\n",
    "        arr = list(map(int, input().split()))\n",
    "\n",
    "        ReverseLeftRotation(arr,0,k-1)\n",
    "        ReverseLeftRotation(arr,k+1, n-1)\n",
    "        ReverseLeftRotation(arr,0, n-1)\n",
    "        PrintArr(arr, n)\n",
    "        t -= 1\n",
    "\n",
    "if __name__ == \"__main__\":\n",
    "    main()"
   ]
  },
  {
   "cell_type": "code",
   "execution_count": 30,
   "metadata": {},
   "outputs": [
    {
     "name": "stdout",
     "output_type": "stream",
     "text": [
      "5\n"
     ]
    }
   ],
   "source": [
    "arr = [[1,2,3], [4,5,6]]\n",
    "mxdiff = 0\n",
    "for i in range(3):\n",
    "    for j in range(3):\n",
    "       diff =  arr[0][i] - arr[1][j]\n",
    "       if abs(diff) > mxdiff:\n",
    "           mxdiff = abs(diff)\n",
    "\n",
    "print(mxdiff)"
   ]
  },
  {
   "cell_type": "code",
   "execution_count": null,
   "metadata": {},
   "outputs": [],
   "source": []
  },
  {
   "cell_type": "code",
   "execution_count": null,
   "metadata": {},
   "outputs": [],
   "source": []
  },
  {
   "cell_type": "code",
   "execution_count": null,
   "metadata": {},
   "outputs": [],
   "source": []
  },
  {
   "cell_type": "code",
   "execution_count": null,
   "metadata": {},
   "outputs": [],
   "source": []
  },
  {
   "cell_type": "code",
   "execution_count": null,
   "metadata": {},
   "outputs": [],
   "source": []
  }
 ],
 "metadata": {
  "kernelspec": {
   "display_name": "Python 3",
   "language": "python",
   "name": "python3"
  },
  "language_info": {
   "codemirror_mode": {
    "name": "ipython",
    "version": 3
   },
   "file_extension": ".py",
   "mimetype": "text/x-python",
   "name": "python",
   "nbconvert_exporter": "python",
   "pygments_lexer": "ipython3",
   "version": "3.12.4"
  }
 },
 "nbformat": 4,
 "nbformat_minor": 2
}

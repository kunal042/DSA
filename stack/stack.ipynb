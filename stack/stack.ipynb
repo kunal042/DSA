{
 "cells": [
  {
   "cell_type": "markdown",
   "metadata": {},
   "source": [
    "### Stack"
   ]
  },
  {
   "cell_type": "markdown",
   "metadata": {},
   "source": [
    "#### Implementation using using Array:"
   ]
  },
  {
   "cell_type": "code",
   "execution_count": 4,
   "metadata": {},
   "outputs": [
    {
     "name": "stdout",
     "output_type": "stream",
     "text": [
      "5\n",
      "5\n",
      "4\n",
      "3\n",
      "2\n",
      "1\n"
     ]
    }
   ],
   "source": [
    "class stack:\n",
    "    def __init__(self):\n",
    "        self.arr = []\n",
    "        self.tos = -1\n",
    "\n",
    "    def push(self,data):\n",
    "        self.tos += 1\n",
    "        self.arr.append(data)\n",
    "\n",
    "    def pop(self):\n",
    "        if (self.isEmpty()):\n",
    "            print(\"Stack is Empty!!\")\n",
    "            return\n",
    "        self.tos -= 1\n",
    "        self.arr.pop()\n",
    "\n",
    "    def size(self):\n",
    "        return self.tos + 1\n",
    "\n",
    "    def isEmpty(self):\n",
    "        return self.tos == -1\n",
    "\n",
    "    def top(self):\n",
    "        if (self.isEmpty()):\n",
    "            print(\"Stack is Empty!!\")\n",
    "            return\n",
    "        return self.arr[self.tos]\n",
    "\n",
    "\n",
    "def main():\n",
    "    st = stack()\n",
    "    n = int(input())\n",
    "    for ele in input().split():\n",
    "        st.push(ele)\n",
    "    print(st.size())\n",
    "    while(st.size() != 0):\n",
    "        print(st.top())\n",
    "        st.pop()\n",
    "\n",
    "if __name__ == \"__main__\":\n",
    "    main()"
   ]
  },
  {
   "cell_type": "code",
   "execution_count": 1,
   "metadata": {},
   "outputs": [
    {
     "name": "stdout",
     "output_type": "stream",
     "text": [
      "5\n",
      "5\n",
      "4\n",
      "3\n",
      "2\n",
      "1\n"
     ]
    }
   ],
   "source": [
    "#### Repeat array based\n",
    "\n",
    "\n",
    "class stack1:\n",
    "    def __init__(self):\n",
    "        self.arr = []\n",
    "        self.tos = -1\n",
    "\n",
    "    def push(self, data):\n",
    "        self.arr.append(data)\n",
    "        self.tos += 1\n",
    "\n",
    "    def pop(self):\n",
    "        if (self.isEmpty()):\n",
    "            print(\"Satck is Empty!!\")\n",
    "        self.arr.pop()\n",
    "        self.tos -= 1\n",
    "\n",
    "    def isEmpty(self):\n",
    "        return self.tos == -1\n",
    "    \n",
    "    def size(self):\n",
    "        return self.tos + 1\n",
    "    \n",
    "    def top(self):\n",
    "        if(self.isEmpty()):\n",
    "            print(\"Stack is Empty!!\")\n",
    "            return\n",
    "        return self.arr[self.tos]\n",
    "    \n",
    "def main():\n",
    "    st1 = stack1()\n",
    "    n = int(input())\n",
    "    for ele in input().split():\n",
    "        st1.push(int(ele))\n",
    "\n",
    "    print(st1.size())\n",
    "    while(st1.size() != 0 ):\n",
    "        print(st1.top())\n",
    "        st1.pop()\n",
    "\n",
    "if __name__ == \"__main__\":\n",
    "    main()\n",
    "\n"
   ]
  },
  {
   "cell_type": "markdown",
   "metadata": {},
   "source": [
    "### Implementation using linked list "
   ]
  },
  {
   "cell_type": "code",
   "execution_count": 6,
   "metadata": {},
   "outputs": [
    {
     "name": "stdout",
     "output_type": "stream",
     "text": [
      "5\n",
      "5\n",
      "4\n",
      "3\n",
      "2\n",
      "1\n"
     ]
    }
   ],
   "source": [
    "class Node:\n",
    "    def __init__(self,data) :\n",
    "        self.data = data\n",
    "        self.next = None\n",
    "\n",
    "class Stack:\n",
    "    def __init__(self):\n",
    "        self.head = None\n",
    "        self.tos = -1\n",
    "\n",
    "    def isEmpty(self):\n",
    "        if (self.head is None):\n",
    "            return True\n",
    "        return False\n",
    "\n",
    "    def push(self,data):\n",
    "        newNode = Node(data)\n",
    "        if (self.head is None):\n",
    "            self.head = newNode\n",
    "            self.tos += 1\n",
    "            return\n",
    "        \n",
    "        newNode.next = self.head\n",
    "        self.head = newNode\n",
    "        self.tos += 1\n",
    "\n",
    "\n",
    "    def pop(self):\n",
    "        if (self.isEmpty()):\n",
    "            print(\"Stack is Empty\")\n",
    "            return\n",
    "        self.head = self.head.next\n",
    "        self.tos -= 1\n",
    "\n",
    "    def size(self):\n",
    "        return self.tod + 1\n",
    "    \n",
    "    def top(self):\n",
    "        if (self.isEmpty()):\n",
    "            print(\"Stack is Empty!\")\n",
    "            return\n",
    "        return self.head.data\n",
    "    \n",
    "\n",
    "def main():\n",
    "    st = stack()\n",
    "    n = int(input())\n",
    "    for ele in input().split():\n",
    "        st.push(int(ele))\n",
    "    print(st.size())\n",
    "    while(st.size() != 0):\n",
    "        print(st.top())\n",
    "        st.pop()\n",
    "\n",
    "if __name__ == \"__main__\":\n",
    "    main()"
   ]
  },
  {
   "cell_type": "code",
   "execution_count": null,
   "metadata": {},
   "outputs": [],
   "source": []
  },
  {
   "cell_type": "code",
   "execution_count": null,
   "metadata": {},
   "outputs": [],
   "source": []
  }
 ],
 "metadata": {
  "kernelspec": {
   "display_name": "Python 3",
   "language": "python",
   "name": "python3"
  },
  "language_info": {
   "codemirror_mode": {
    "name": "ipython",
    "version": 3
   },
   "file_extension": ".py",
   "mimetype": "text/x-python",
   "name": "python",
   "nbconvert_exporter": "python",
   "pygments_lexer": "ipython3",
   "version": "3.12.4"
  }
 },
 "nbformat": 4,
 "nbformat_minor": 2
}

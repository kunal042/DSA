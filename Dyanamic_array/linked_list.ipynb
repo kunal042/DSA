{
 "cells": [
  {
   "cell_type": "code",
   "execution_count": 4,
   "metadata": {},
   "outputs": [],
   "source": [
    "class Linkedlist:\n",
    "\n",
    "    def __init__(self, value):\n",
    "        self.value = value\n",
    "        self.next = None\n",
    "\n",
    "    \n",
    "l = Linkedlist(1)\n",
    "m = Linkedlist(2)\n",
    "n = Linkedlist(3)"
   ]
  },
  {
   "cell_type": "code",
   "execution_count": 6,
   "metadata": {},
   "outputs": [
    {
     "name": "stdout",
     "output_type": "stream",
     "text": [
      "<__main__.Linkedlist object at 0x0000017812319AC0>\n",
      "<__main__.Linkedlist object at 0x0000017812319730>\n",
      "<__main__.Linkedlist object at 0x0000017812572CF0>\n"
     ]
    }
   ],
   "source": [
    "print(l)\n",
    "print(m)\n",
    "print(n)\n"
   ]
  },
  {
   "cell_type": "code",
   "execution_count": 11,
   "metadata": {},
   "outputs": [
    {
     "name": "stdout",
     "output_type": "stream",
     "text": [
      "<__main__.Linkedlist object at 0x0000017812319730>\n",
      "<__main__.Linkedlist object at 0x0000017812572CF0>\n",
      "None\n"
     ]
    }
   ],
   "source": [
    "l.next = m\n",
    "print(l.next)\n",
    "m.next = n\n",
    "print(m.next)\n",
    "print(n.next)"
   ]
  },
  {
   "cell_type": "code",
   "execution_count": 8,
   "metadata": {},
   "outputs": [
    {
     "name": "stdout",
     "output_type": "stream",
     "text": [
      "<__main__.Linkedlist object at 0x0000017812319AC0>\n",
      "<__main__.Linkedlist object at 0x0000017812319730>\n",
      "<__main__.Linkedlist object at 0x0000017812572CF0>\n"
     ]
    }
   ],
   "source": [
    "print(l)\n",
    "print(m)\n",
    "print(n)"
   ]
  },
  {
   "cell_type": "code",
   "execution_count": 13,
   "metadata": {},
   "outputs": [],
   "source": [
    "class Node:\n",
    "    def __init__(self, value) :\n",
    "        self.data = value\n",
    "        self.next = None\n",
    "\n",
    "class Linkedlist:\n",
    "\n",
    "    def __init__(self):\n",
    "\n",
    "        #Empty Linked List\n",
    "        self.head = None\n",
    "        self.n = 0\n",
    "\n",
    "    def __len__(self):\n",
    "        return self.n\n",
    "    \n",
    "    def insert_head(self, value):\n",
    "\n",
    "        # new Node\n",
    "        new_node = Node(value)\n",
    "\n",
    "        # create Conection\n",
    "        new_node.next = self.head\n",
    "\n",
    "        # reassign\n",
    "        self.head = new_node\n",
    "\n",
    "        # increment\n",
    "\n",
    "        self.n = self.n + 1\n",
    "\n",
    "    def __str__(self) :\n",
    "        curr = self.head\n",
    "        result = ''\n",
    "\n",
    "        while curr != None:\n",
    "\n",
    "            result = result + str(curr.data) + '->'\n",
    "            curr = curr.next\n",
    "\n",
    "        return result[:-2]   \n",
    "\n",
    "    def append (self, value):\n",
    "        new_node = Node(value)\n",
    "\n",
    "        if self.head == None:\n",
    "            self.head = new_node\n",
    "            self.n = self.n + 1\n",
    "            return\n",
    "\n",
    "        curr = self.head\n",
    "\n",
    "        while curr.next != None:\n",
    "            curr = curr.next\n",
    "\n",
    "        curr.next = new_node \n",
    "        self.n = self.n + 1\n",
    "\n",
    "\n",
    "\n",
    "        \n"
   ]
  },
  {
   "cell_type": "code",
   "execution_count": 17,
   "metadata": {},
   "outputs": [],
   "source": [
    "l = Linkedlist()\n"
   ]
  },
  {
   "cell_type": "code",
   "execution_count": 15,
   "metadata": {},
   "outputs": [],
   "source": [
    "l.insert_head(1)\n",
    "l.insert_head(2)\n",
    "l.insert_head(3)\n",
    "l.insert_head(4)\n",
    "l.insert_head(5)\n"
   ]
  },
  {
   "cell_type": "code",
   "execution_count": 16,
   "metadata": {},
   "outputs": [
    {
     "name": "stdout",
     "output_type": "stream",
     "text": [
      "5->4->3->2->1\n"
     ]
    }
   ],
   "source": [
    "print(l)"
   ]
  },
  {
   "cell_type": "code",
   "execution_count": 18,
   "metadata": {},
   "outputs": [],
   "source": [
    "l.append(6)"
   ]
  },
  {
   "cell_type": "code",
   "execution_count": 22,
   "metadata": {},
   "outputs": [],
   "source": [
    "l2 = Linkedlist()\n",
    "l2.append(2)"
   ]
  },
  {
   "cell_type": "code",
   "execution_count": 23,
   "metadata": {},
   "outputs": [
    {
     "name": "stdout",
     "output_type": "stream",
     "text": [
      "2\n"
     ]
    }
   ],
   "source": [
    "print(l2)"
   ]
  },
  {
   "cell_type": "code",
   "execution_count": null,
   "metadata": {},
   "outputs": [],
   "source": []
  }
 ],
 "metadata": {
  "kernelspec": {
   "display_name": "Python 3",
   "language": "python",
   "name": "python3"
  },
  "language_info": {
   "codemirror_mode": {
    "name": "ipython",
    "version": 3
   },
   "file_extension": ".py",
   "mimetype": "text/x-python",
   "name": "python",
   "nbconvert_exporter": "python",
   "pygments_lexer": "ipython3",
   "version": "3.12.4"
  }
 },
 "nbformat": 4,
 "nbformat_minor": 2
}

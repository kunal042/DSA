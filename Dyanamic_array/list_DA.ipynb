{
 "cells": [
  {
   "cell_type": "markdown",
   "metadata": {},
   "source": [
    "`Making list and all methods of the list using Dyanamic Array`"
   ]
  },
  {
   "cell_type": "code",
   "execution_count": 3,
   "metadata": {},
   "outputs": [],
   "source": [
    "import ctypes"
   ]
  },
  {
   "cell_type": "code",
   "execution_count": 105,
   "metadata": {},
   "outputs": [],
   "source": [
    "class MeraList:\n",
    "\n",
    "    def __init__(self) :\n",
    "        self.size = 1\n",
    "        self.n = 0\n",
    "        # create a ctype array with size = self.size\n",
    "\n",
    "        self.A = self.__make_array(self.size)\n",
    "\n",
    "    def __len__(self):\n",
    "        return self.n\n",
    "\n",
    "    def __str__(self):\n",
    "        result =''\n",
    "        for i in range(self.n):\n",
    "            result = result + str(self.A[i]) + ','\n",
    "        return '[' + result[:-1] + ']'\n",
    "\n",
    "    def __getitem__(self,index):\n",
    "        if 0 <= index < self.n:\n",
    "            return self.A[index]\n",
    "        else:\n",
    "            return 'IndexError - Index out of range'\n",
    "        \n",
    "    def __delitem__(self,pos):\n",
    "        #delete\n",
    "        if 0 <= pos < self.n:\n",
    "            for i in range(pos,self.n-1):\n",
    "                self.A[i] = self.A[i+1]\n",
    "            \n",
    "            self.n = self.n - 1\n",
    "        else :\n",
    "            return 'IndexError '\n",
    "\n",
    "\n",
    "\n",
    "    def append(self, item):\n",
    "        if self.n == self.size:\n",
    "            #resize\n",
    "            self.__resize(self.size*2)\n",
    "        #append\n",
    "\n",
    "        self.A[self.n] = item\n",
    "        self.n = self.n + 1\n",
    "\n",
    "    def pop(self):\n",
    "        if self.n == 0:\n",
    "            return 'Empty List'\n",
    "        \n",
    "        print(self.A[self.n-1])\n",
    "        self.n = self.n -1\n",
    "\n",
    "    def clear(self):\n",
    "        self.n = 0\n",
    "        self.size = 1\n",
    "\n",
    "    def find(self,item):\n",
    "        for i in range(self.n):\n",
    "            if self.A[i] == item:\n",
    "                return i\n",
    "        return 'Value Error - not in list'\n",
    "    \n",
    "    def insert(self,pos, item):\n",
    "        if self.n == self.size:\n",
    "            self.__resize(self.size*2)\n",
    "\n",
    "        for i in range(self.n, pos, -1):\n",
    "            self.A[i] = self.A[i-1]\n",
    "\n",
    "        self.A[pos] = item\n",
    "        self.n = self.n + 1\n",
    "\n",
    "    def remove(self, item):\n",
    "        pos = self.find(item)\n",
    "\n",
    "        if type(pos) == int:\n",
    "            self.__delitem__(pos)\n",
    "        else:\n",
    "            return pos\n",
    "    \n",
    "    def __resize(self, new_capacity):\n",
    "        # Create a new array with new capacity\n",
    "        B = self.__make_array(new_capacity)\n",
    "        self.size = new_capacity\n",
    "        # copy the content of A to B\n",
    "        for i in range(self.n):\n",
    "            B[i] = self.A[i]\n",
    "        # reassign\n",
    "        self.A = B\n",
    "\n",
    "\n",
    "            \n",
    "\n",
    "\n",
    "    def __make_array(self, capacity):\n",
    "        # Create a CType array(static, referential) with size capacity\n",
    "        return (capacity*ctypes.py_object)()\n",
    "\n",
    "l = MeraList()"
   ]
  },
  {
   "cell_type": "code",
   "execution_count": 106,
   "metadata": {},
   "outputs": [],
   "source": [
    "\n",
    "l.append(24)\n",
    "l.append(\"hello\")\n",
    "l.append(2)\n"
   ]
  },
  {
   "cell_type": "code",
   "execution_count": 113,
   "metadata": {},
   "outputs": [
    {
     "name": "stdout",
     "output_type": "stream",
     "text": [
      "[24,kunal,kunal,2]\n"
     ]
    },
    {
     "data": {
      "text/plain": [
       "3"
      ]
     },
     "execution_count": 113,
     "metadata": {},
     "output_type": "execute_result"
    }
   ],
   "source": [
    "\n",
    "print(l)\n",
    "l.find(2)"
   ]
  },
  {
   "cell_type": "code",
   "execution_count": 112,
   "metadata": {},
   "outputs": [],
   "source": [
    "len(l)\n",
    "l.insert(2,\"kunal\")"
   ]
  },
  {
   "cell_type": "code",
   "execution_count": 111,
   "metadata": {},
   "outputs": [],
   "source": [
    "del l[10]\n",
    "l.remove('hello')"
   ]
  },
  {
   "cell_type": "code",
   "execution_count": 65,
   "metadata": {},
   "outputs": [
    {
     "data": {
      "text/plain": [
       "'Empty List'"
      ]
     },
     "execution_count": 65,
     "metadata": {},
     "output_type": "execute_result"
    }
   ],
   "source": [
    "l.pop()"
   ]
  },
  {
   "cell_type": "code",
   "execution_count": 71,
   "metadata": {},
   "outputs": [],
   "source": [
    "l.clear()"
   ]
  },
  {
   "cell_type": "code",
   "execution_count": 84,
   "metadata": {},
   "outputs": [
    {
     "name": "stdout",
     "output_type": "stream",
     "text": [
      "[24,hello,kunal,2]\n"
     ]
    }
   ],
   "source": [
    "print(l)"
   ]
  },
  {
   "cell_type": "code",
   "execution_count": null,
   "metadata": {},
   "outputs": [],
   "source": []
  }
 ],
 "metadata": {
  "kernelspec": {
   "display_name": "Python 3",
   "language": "python",
   "name": "python3"
  },
  "language_info": {
   "codemirror_mode": {
    "name": "ipython",
    "version": 3
   },
   "file_extension": ".py",
   "mimetype": "text/x-python",
   "name": "python",
   "nbconvert_exporter": "python",
   "pygments_lexer": "ipython3",
   "version": "3.12.4"
  }
 },
 "nbformat": 4,
 "nbformat_minor": 2
}
